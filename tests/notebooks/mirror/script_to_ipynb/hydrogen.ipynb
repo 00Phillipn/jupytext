{
 "cells": [
  {
   "cell_type": "code",
   "execution_count": null,
   "metadata": {},
   "outputs": [],
   "source": [
    "import pandas as pd"
   ]
  },
  {
   "cell_type": "code",
   "execution_count": null,
   "metadata": {
    "description": "Display a data frame"
   },
   "outputs": [],
   "source": [
    "df = pd.DataFrame({'A': [1, 2], 'B': [3, 4]},\n",
    "                  index=pd.Index(['x0', 'x1'], name='x'))\n",
    "df"
   ]
  },
  {
   "cell_type": "code",
   "execution_count": null,
   "metadata": {
    "description": "Pandas plot",
    "tags": [
     "parameters"
    ]
   },
   "outputs": [],
   "source": [
    "df.plot(kind='bar')"
   ]
  }
 ],
 "metadata": {
  "main_language": "python"
 },
 "nbformat": 4,
 "nbformat_minor": 2
}
