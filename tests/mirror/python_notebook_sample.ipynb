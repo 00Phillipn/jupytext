{
 "cells": [
  {
   "cell_type": "markdown",
   "metadata": {},
   "source": [
    "# Specifications for Jupyter notebooks as python scripts"
   ]
  },
  {
   "cell_type": "markdown",
   "metadata": {},
   "source": [
    "## Markdown (and raw) cells"
   ]
  },
  {
   "cell_type": "markdown",
   "metadata": {},
   "source": [
    "Markdown cells are escaped with a single quote. Two consecutive\n",
    "cells are separated with a blank line. Raw cells are not\n",
    "distinguished from markdown."
   ]
  },
  {
   "cell_type": "markdown",
   "metadata": {},
   "source": [
    "## Code cells"
   ]
  },
  {
   "cell_type": "markdown",
   "metadata": {},
   "source": [
    "Code cells are separated by one blank line from markdown cells.\n",
    "If a code cells follows a comment, then that comment belong to the\n",
    "code cell."
   ]
  },
  {
   "cell_type": "code",
   "execution_count": null,
   "metadata": {},
   "outputs": [],
   "source": [
    "# For instance, this is a code cell that starts with a\n",
    "# code comment, split on multiple lines\n",
    "1 + 2"
   ]
  },
  {
   "cell_type": "markdown",
   "metadata": {},
   "source": [
    "Code cells are terminated with either\n",
    "- end of file\n",
    "- two blank lines if followed by an other code cell\n",
    "- one blank line if followed by a markdown cell"
   ]
  },
  {
   "cell_type": "markdown",
   "metadata": {},
   "source": [
    "Code cells can have blank lines, but no two consecutive blank lines (unless\n",
    "a specific cell end is specified in the cell options, see below).\n",
    "Now we have a cell with multiple instructions"
   ]
  },
  {
   "cell_type": "code",
   "execution_count": null,
   "metadata": {},
   "outputs": [],
   "source": [
    "a = 3\n",
    "\n",
    "a + 1"
   ]
  },
  {
   "cell_type": "markdown",
   "metadata": {},
   "source": [
    "And a cell with an arbitrary count of blank lines. This last example\n",
    "is also an instance of a cell with metadata information in json format,\n",
    "escaped with '#+' or '# +'"
   ]
  },
  {
   "cell_type": "code",
   "execution_count": null,
   "metadata": {},
   "outputs": [],
   "source": [
    "def f(x):\n",
    "    return x + 1\n",
    "\n",
    "\n",
    "def g(x):\n",
    "    return x + 2"
   ]
  },
  {
   "cell_type": "code",
   "execution_count": null,
   "metadata": {},
   "outputs": [],
   "source": [
    "# Cells after a cell with and explicit end-of-cell are just separated by one\n",
    "# blank line\n",
    "a + 2"
   ]
  }
 ],
 "metadata": {},
 "nbformat": 4,
 "nbformat_minor": 2
}
